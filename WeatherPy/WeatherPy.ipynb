{
 "cells": [
  {
   "cell_type": "markdown",
   "metadata": {},
   "source": [
    "# WeatherPy\n",
    "----\n",
    "\n",
    "#### Note\n",
    "* Instructions have been included for each segment. You do not have to follow them exactly, but they are included to help you think through the steps."
   ]
  },
  {
   "cell_type": "code",
   "execution_count": 28,
   "metadata": {},
   "outputs": [],
   "source": [
    "# Observable Trends\n",
    "\n",
    "# 1: There is a moderate correlation between distance from equator and max temp\n",
    "\n",
    "# 2: There is no correlation between distance from equator and cloudiness\n",
    "\n",
    "# 3: There is no correlation between distance from equator and wind speed"
   ]
  },
  {
   "cell_type": "code",
   "execution_count": 29,
   "metadata": {
    "scrolled": true
   },
   "outputs": [],
   "source": [
    "# Dependencies and Setup\n",
    "import matplotlib.pyplot as plt\n",
    "import pandas as pd\n",
    "import numpy as np\n",
    "import requests\n",
    "import time\n",
    "from scipy.stats import linregress\n",
    "\n",
    "# Import API key\n",
    "from api_keys import weather_api_key\n",
    "\n",
    "# Incorporated citipy to determine city based on latitude and longitude\n",
    "from citipy import citipy\n",
    "\n",
    "# Output File (CSV)\n",
    "output_data_file = \"output_data/cities.csv\"\n",
    "\n",
    "# Range of latitudes and longitudes\n",
    "lat_range = (-90, 90)\n",
    "lng_range = (-180, 180)\n",
    "\n",
    "url = \"http://api.openweathermap.org/data/2.5/weather?\"\n",
    "\n"
   ]
  },
  {
   "cell_type": "markdown",
   "metadata": {},
   "source": [
    "## Generate Cities List"
   ]
  },
  {
   "cell_type": "code",
   "execution_count": 30,
   "metadata": {},
   "outputs": [
    {
     "data": {
      "text/plain": [
       "602"
      ]
     },
     "execution_count": 30,
     "metadata": {},
     "output_type": "execute_result"
    }
   ],
   "source": [
    "# List for holding lat_lngs and cities\n",
    "lat_lngs = []\n",
    "cities = []\n",
    "\n",
    "# Create a set of random lat and lng combinations\n",
    "lats = np.random.uniform(lat_range[0], lat_range[1], size=1500)\n",
    "lngs = np.random.uniform(lng_range[0], lng_range[1], size=1500)\n",
    "lat_lngs = zip(lats, lngs)\n",
    "\n",
    "# Identify nearest city for each lat, lng combination\n",
    "for lat_lng in lat_lngs:\n",
    "    city = citipy.nearest_city(lat_lng[0], lat_lng[1]).city_name\n",
    "    \n",
    "    # If the city is unique, then add it to a our cities list\n",
    "    if city not in cities:\n",
    "        cities.append(city)\n",
    "\n",
    "# Print the city count to confirm sufficient count\n",
    "len(cities)"
   ]
  },
  {
   "cell_type": "markdown",
   "metadata": {},
   "source": [
    "### Perform API Calls\n",
    "* Perform a weather check on each city using a series of successive API calls.\n",
    "* Include a print log of each city as it'sbeing processed (with the city number and city name).\n"
   ]
  },
  {
   "cell_type": "code",
   "execution_count": 32,
   "metadata": {},
   "outputs": [
    {
     "name": "stdout",
     "output_type": "stream",
     "text": [
      "trying city 0: busselton\n",
      "trying city 1: mataura\n",
      "trying city 2: bredasdorp\n",
      "trying city 3: nanortalik\n",
      "trying city 4: puerto ayora\n",
      "trying city 5: grand river south east\n",
      "Could not find: grand river south east\n",
      "trying city 6: los llanos de aridane\n",
      "trying city 7: banda aceh\n",
      "trying city 8: rikitea\n",
      "trying city 9: axim\n",
      "trying city 10: te anau\n",
      "trying city 11: cidreira\n",
      "trying city 12: hermanus\n",
      "trying city 13: punta arenas\n",
      "trying city 14: hamilton\n",
      "trying city 15: athabasca\n",
      "trying city 16: jacqueville\n",
      "trying city 17: saldanha\n",
      "trying city 18: saint-philippe\n",
      "trying city 19: bandipur\n",
      "trying city 20: mys shmidta\n",
      "Could not find: mys shmidta\n",
      "trying city 21: otradnoye\n",
      "trying city 22: tula\n",
      "trying city 23: moranbah\n",
      "trying city 24: ibadan\n",
      "trying city 25: sumbawa\n",
      "Could not find: sumbawa\n",
      "trying city 26: limuru\n",
      "trying city 27: vaitupu\n",
      "Could not find: vaitupu\n",
      "trying city 28: vila\n",
      "trying city 29: uglovka\n",
      "trying city 30: severo-kurilsk\n",
      "trying city 31: nkwerre\n",
      "trying city 32: koslan\n",
      "trying city 33: san cristobal\n",
      "trying city 34: taolanaro\n",
      "Could not find: taolanaro\n",
      "trying city 35: mariara\n",
      "trying city 36: broome\n",
      "trying city 37: broken hill\n",
      "trying city 38: barentsburg\n",
      "Could not find: barentsburg\n",
      "trying city 39: mar del plata\n",
      "trying city 40: ushuaia\n",
      "trying city 41: arcata\n",
      "trying city 42: nantucket\n",
      "trying city 43: kapaa\n",
      "trying city 44: atuona\n",
      "trying city 45: zhoucheng\n",
      "trying city 46: tautira\n",
      "trying city 47: port-gentil\n",
      "trying city 48: dikson\n",
      "trying city 49: kohima\n",
      "trying city 50: beringovskiy\n",
      "trying city 51: micco\n",
      "trying city 52: swan river\n",
      "trying city 53: barrow\n",
      "trying city 54: olafsvik\n",
      "trying city 55: khatanga\n",
      "trying city 56: victoria\n",
      "trying city 57: pescantina\n",
      "trying city 58: bhadrachalam\n",
      "trying city 59: ola\n",
      "trying city 60: sturgeon falls\n",
      "trying city 61: vangaindrano\n",
      "trying city 62: zyryanka\n",
      "trying city 63: lufilufi\n",
      "trying city 64: cabo san lucas\n",
      "trying city 65: butaritari\n",
      "trying city 66: betioky\n",
      "trying city 67: nizhneyansk\n",
      "Could not find: nizhneyansk\n",
      "trying city 68: nome\n",
      "trying city 69: yellowknife\n",
      "trying city 70: nikolskoye\n",
      "trying city 71: chupa\n",
      "trying city 72: solnechnyy\n",
      "trying city 73: alofi\n",
      "trying city 74: elat\n",
      "trying city 75: flinders\n",
      "trying city 76: sao joao da barra\n",
      "trying city 77: vaini\n",
      "trying city 78: bluff\n",
      "trying city 79: palembang\n",
      "trying city 80: guayaramerin\n",
      "trying city 81: hobart\n",
      "trying city 82: juba\n",
      "trying city 83: ural\n",
      "trying city 84: tshikapa\n",
      "trying city 85: cap malheureux\n",
      "trying city 86: kodinar\n",
      "trying city 87: albany\n",
      "trying city 88: lagoa\n",
      "trying city 89: fort wellington\n",
      "trying city 90: sinjai\n",
      "trying city 91: provideniya\n",
      "trying city 92: brigantine\n",
      "trying city 93: ardistan\n",
      "Could not find: ardistan\n",
      "trying city 94: tarauaca\n",
      "trying city 95: arraial do cabo\n",
      "trying city 96: coahuayana\n",
      "trying city 97: leczyca\n",
      "trying city 98: hilo\n",
      "trying city 99: upernavik\n",
      "trying city 100: saint anthony\n",
      "trying city 101: karpathos\n",
      "trying city 102: parbatipur\n",
      "trying city 103: belushya guba\n",
      "Could not find: belushya guba\n",
      "trying city 104: east london\n",
      "trying city 105: clyde river\n",
      "trying city 106: faanui\n",
      "trying city 107: aksu\n",
      "trying city 108: soe\n",
      "trying city 109: marshalltown\n",
      "trying city 110: castro\n",
      "trying city 111: hasaki\n",
      "trying city 112: jamestown\n",
      "trying city 113: sentyabrskiy\n",
      "Could not find: sentyabrskiy\n",
      "trying city 114: tuktoyaktuk\n",
      "trying city 115: tezu\n",
      "trying city 116: tilichiki\n",
      "trying city 117: quelimane\n",
      "trying city 118: torbay\n",
      "trying city 119: marawi\n",
      "trying city 120: cabanas\n",
      "trying city 121: inhambane\n",
      "trying city 122: vestmannaeyjar\n",
      "trying city 123: nelson bay\n",
      "trying city 124: college\n",
      "trying city 125: aki\n",
      "trying city 126: tual\n",
      "trying city 127: khonuu\n",
      "Could not find: khonuu\n",
      "trying city 128: kaitangata\n",
      "trying city 129: bambous virieux\n",
      "trying city 130: mayo\n",
      "trying city 131: anadyr\n",
      "trying city 132: changchun\n",
      "trying city 133: virginia beach\n",
      "trying city 134: porto novo\n",
      "trying city 135: pevek\n",
      "trying city 136: vestmanna\n",
      "trying city 137: narsaq\n",
      "trying city 138: saskylakh\n",
      "trying city 139: ribeira grande\n",
      "trying city 140: yulara\n",
      "trying city 141: senno\n",
      "trying city 142: cape town\n",
      "trying city 143: trairi\n",
      "trying city 144: kysyl-syr\n",
      "trying city 145: aswan\n",
      "trying city 146: husavik\n",
      "trying city 147: nahariyya\n",
      "trying city 148: qaanaaq\n",
      "trying city 149: richards bay\n",
      "trying city 150: belousovka\n",
      "trying city 151: komsomolskiy\n",
      "trying city 152: dhrangadhra\n",
      "trying city 153: mnogovershinnyy\n",
      "trying city 154: aklavik\n",
      "trying city 155: kushmurun\n",
      "trying city 156: thompson\n",
      "trying city 157: khandbari\n",
      "trying city 158: gat\n",
      "trying city 159: khash\n",
      "trying city 160: kudahuvadhoo\n",
      "trying city 161: condado\n",
      "trying city 162: chany\n",
      "trying city 163: upata\n",
      "trying city 164: brae\n",
      "trying city 165: batticaloa\n",
      "trying city 166: bani\n",
      "trying city 167: acarau\n",
      "trying city 168: toora-khem\n",
      "trying city 169: novaya mayna\n",
      "trying city 170: new norfolk\n",
      "trying city 171: klerksdorp\n",
      "trying city 172: longyearbyen\n",
      "trying city 173: san quintin\n",
      "trying city 174: tasiilaq\n",
      "trying city 175: totma\n",
      "trying city 176: vardo\n",
      "trying city 177: half moon bay\n",
      "trying city 178: melbu\n",
      "trying city 179: zhaotong\n",
      "trying city 180: luangwa\n",
      "trying city 181: caraballeda\n",
      "trying city 182: mehamn\n",
      "trying city 183: fallon\n",
      "trying city 184: sivas\n",
      "trying city 185: esperance\n",
      "trying city 186: candawaga\n",
      "Could not find: candawaga\n",
      "trying city 187: kashi\n",
      "trying city 188: bethel\n",
      "trying city 189: kilindoni\n",
      "trying city 190: tsihombe\n",
      "Could not find: tsihombe\n",
      "trying city 191: dunedin\n",
      "trying city 192: coquimbo\n",
      "trying city 193: ostrovnoy\n",
      "trying city 194: avarua\n",
      "trying city 195: bengkulu\n",
      "trying city 196: lubango\n",
      "trying city 197: taoudenni\n",
      "trying city 198: morondava\n",
      "trying city 199: pacific grove\n",
      "trying city 200: olenegorsk\n",
      "trying city 201: port alfred\n",
      "trying city 202: nizwa\n",
      "trying city 203: haines junction\n",
      "trying city 204: kodiak\n",
      "trying city 205: marmande\n",
      "trying city 206: saint-pierre\n",
      "trying city 207: cerqueira cesar\n",
      "trying city 208: ponta do sol\n",
      "trying city 209: pisco\n",
      "trying city 210: touros\n",
      "trying city 211: kruisfontein\n",
      "trying city 212: poso\n",
      "trying city 213: salalah\n",
      "trying city 214: luderitz\n",
      "trying city 215: mount isa\n",
      "trying city 216: port elizabeth\n",
      "trying city 217: chokurdakh\n",
      "trying city 218: adrar\n",
      "trying city 219: balkhash\n",
      "trying city 220: cordele\n",
      "trying city 221: baykit\n",
      "trying city 222: chimbote\n",
      "trying city 223: tigil\n",
      "trying city 224: alashtar\n",
      "Could not find: alashtar\n",
      "trying city 225: hithadhoo\n",
      "trying city 226: tiksi\n",
      "trying city 227: souillac\n",
      "trying city 228: melton\n",
      "trying city 229: iqaluit\n",
      "trying city 230: puerto montt\n",
      "trying city 231: camara de lobos\n",
      "trying city 232: pitkyaranta\n",
      "trying city 233: tuatapere\n",
      "trying city 234: hobyo\n",
      "trying city 235: kuala kangsar\n",
      "trying city 236: geraldton\n",
      "trying city 237: suntar\n",
      "trying city 238: marcona\n",
      "Could not find: marcona\n",
      "trying city 239: mafeteng\n",
      "trying city 240: linchuan\n",
      "Could not find: linchuan\n",
      "trying city 241: salekhard\n",
      "trying city 242: katsuura\n",
      "trying city 243: xining\n",
      "trying city 244: butwal\n",
      "trying city 245: louisbourg\n",
      "Could not find: louisbourg\n",
      "trying city 246: paamiut\n",
      "trying city 247: anar darreh\n",
      "Could not find: anar darreh\n",
      "trying city 248: illoqqortoormiut\n",
      "Could not find: illoqqortoormiut\n",
      "trying city 249: nishihara\n",
      "trying city 250: omboue\n",
      "trying city 251: margate\n",
      "trying city 252: balaipungut\n",
      "trying city 253: oistins\n",
      "trying city 254: maarianhamina\n",
      "trying city 255: praia da vitoria\n",
      "trying city 256: lloydminster\n",
      "trying city 257: casablanca\n",
      "trying city 258: la asuncion\n",
      "trying city 259: portland\n",
      "trying city 260: santa isabel\n",
      "trying city 261: sayyan\n",
      "trying city 262: lolua\n",
      "Could not find: lolua\n",
      "trying city 263: codrington\n",
      "trying city 264: ouadda\n",
      "trying city 265: eyl\n",
      "trying city 266: aksarka\n",
      "trying city 267: pervomaysk\n",
      "trying city 268: bonthe\n",
      "trying city 269: peniche\n",
      "trying city 270: knysna\n",
      "trying city 271: port hardy\n",
      "trying city 272: andros town\n",
      "trying city 273: bimbo\n",
      "trying city 274: enshi\n",
      "trying city 275: lebu\n",
      "trying city 276: havoysund\n",
      "trying city 277: ponta delgada\n",
      "trying city 278: ixtapa\n",
      "trying city 279: oytal\n",
      "trying city 280: boralday\n",
      "trying city 281: balikpapan\n",
      "trying city 282: necochea\n",
      "trying city 283: auki\n",
      "trying city 284: novyy urgal\n",
      "trying city 285: dujuma\n",
      "Could not find: dujuma\n",
      "trying city 286: makakilo city\n",
      "trying city 287: bandarbeyla\n",
      "trying city 288: jos\n",
      "trying city 289: zhangye\n",
      "trying city 290: lompoc\n",
      "trying city 291: borogontsy\n",
      "trying city 292: pervomayskoye\n"
     ]
    },
    {
     "name": "stdout",
     "output_type": "stream",
     "text": [
      "trying city 293: port hedland\n",
      "trying city 294: mocambique\n",
      "Could not find: mocambique\n",
      "trying city 295: ust-nera\n",
      "trying city 296: boguchany\n",
      "trying city 297: nchelenge\n",
      "trying city 298: ayagoz\n",
      "trying city 299: nevelsk\n",
      "trying city 300: padang\n",
      "trying city 301: derzhavinsk\n",
      "trying city 302: jaen\n",
      "trying city 303: jefferson city\n",
      "trying city 304: santiago\n",
      "trying city 305: vamdrup\n",
      "trying city 306: morehead\n",
      "trying city 307: koster\n",
      "trying city 308: verkhoyansk\n",
      "trying city 309: karaul\n",
      "Could not find: karaul\n",
      "trying city 310: jumla\n",
      "trying city 311: acapulco\n",
      "trying city 312: akdepe\n",
      "trying city 313: north ogden\n",
      "trying city 314: tshane\n",
      "trying city 315: samusu\n",
      "Could not find: samusu\n",
      "trying city 316: talnakh\n",
      "trying city 317: klaksvik\n",
      "trying city 318: shenjiamen\n",
      "trying city 319: attawapiskat\n",
      "Could not find: attawapiskat\n",
      "trying city 320: namatanai\n",
      "trying city 321: kurilsk\n",
      "trying city 322: vagur\n",
      "trying city 323: iskateley\n",
      "trying city 324: constitucion\n",
      "trying city 325: dingle\n",
      "trying city 326: shumskiy\n",
      "trying city 327: labuhan\n",
      "trying city 328: kajaani\n",
      "trying city 329: rivera\n",
      "trying city 330: airai\n",
      "trying city 331: peleduy\n",
      "trying city 332: saint george\n",
      "trying city 333: aktash\n",
      "trying city 334: ulladulla\n",
      "trying city 335: juan aldama\n",
      "trying city 336: antofagasta\n",
      "trying city 337: cherskiy\n",
      "trying city 338: prince rupert\n",
      "trying city 339: cascais\n",
      "trying city 340: urdoma\n",
      "trying city 341: anchorage\n",
      "trying city 342: chuy\n",
      "trying city 343: wyndham\n",
      "trying city 344: buchanan\n",
      "trying city 345: kadom\n",
      "trying city 346: ye\n",
      "Could not find: ye\n",
      "trying city 347: durango\n",
      "trying city 348: barbar\n",
      "Could not find: barbar\n",
      "trying city 349: hervey bay\n",
      "trying city 350: charlottetown\n",
      "trying city 351: lahat\n",
      "trying city 352: khandyga\n",
      "trying city 353: bargal\n",
      "Could not find: bargal\n",
      "trying city 354: ilulissat\n",
      "trying city 355: wabag\n",
      "trying city 356: karasjok\n",
      "trying city 357: ketchikan\n",
      "trying city 358: pangnirtung\n",
      "trying city 359: fuldabruck\n",
      "trying city 360: boras\n",
      "trying city 361: champerico\n",
      "trying city 362: peru\n",
      "trying city 363: tukrah\n",
      "trying city 364: yithion\n",
      "Could not find: yithion\n",
      "trying city 365: trat\n",
      "trying city 366: avera\n",
      "trying city 367: barawe\n",
      "Could not find: barawe\n",
      "trying city 368: paka\n",
      "trying city 369: dzilam gonzalez\n",
      "trying city 370: rorvik\n",
      "trying city 371: sidi ali\n",
      "trying city 372: muros\n",
      "trying city 373: saint-joseph\n",
      "trying city 374: ribeira brava\n",
      "trying city 375: tchollire\n",
      "trying city 376: isangel\n",
      "trying city 377: beisfjord\n",
      "trying city 378: arman\n",
      "trying city 379: guerrero negro\n",
      "trying city 380: awbari\n",
      "trying city 381: leningradskiy\n",
      "trying city 382: radhanpur\n",
      "trying city 383: mercedes\n",
      "trying city 384: grindavik\n",
      "trying city 385: vila velha\n",
      "trying city 386: srednekolymsk\n",
      "trying city 387: kargasok\n",
      "trying city 388: murgab\n",
      "trying city 389: taltal\n",
      "trying city 390: tamala\n",
      "trying city 391: sao borja\n",
      "trying city 392: harper\n",
      "trying city 393: alihe\n",
      "trying city 394: chekmagush\n",
      "trying city 395: pochutla\n",
      "trying city 396: bengkalis\n",
      "Could not find: bengkalis\n",
      "trying city 397: camapua\n",
      "trying city 398: amapa\n",
      "trying city 399: georgetown\n",
      "trying city 400: ancud\n",
      "trying city 401: vilhena\n",
      "trying city 402: denpasar\n",
      "trying city 403: port blair\n",
      "trying city 404: steenbergen\n",
      "trying city 405: muzhi\n",
      "trying city 406: thio\n",
      "trying city 407: crangeni\n",
      "trying city 408: riachao\n",
      "trying city 409: carnarvon\n",
      "trying city 410: gorontalo\n",
      "trying city 411: qaqortoq\n",
      "trying city 412: karratha\n",
      "trying city 413: boende\n",
      "trying city 414: vasylivka\n",
      "trying city 415: port macquarie\n",
      "trying city 416: shimoda\n",
      "trying city 417: mackenzie\n",
      "trying city 418: coolum beach\n",
      "trying city 419: laiagam\n",
      "Could not find: laiagam\n",
      "trying city 420: krasnoselkup\n",
      "trying city 421: cabedelo\n",
      "trying city 422: luganville\n",
      "trying city 423: sitka\n",
      "trying city 424: rio grande\n",
      "trying city 425: strelka\n",
      "trying city 426: kolosovka\n",
      "trying city 427: bogorodskoye\n",
      "trying city 428: caravelas\n",
      "trying city 429: nagod\n",
      "trying city 430: comodoro rivadavia\n",
      "trying city 431: johi\n",
      "trying city 432: natal\n",
      "trying city 433: cuernavaca\n",
      "trying city 434: pemba\n",
      "trying city 435: yialos\n",
      "Could not find: yialos\n",
      "trying city 436: buala\n",
      "trying city 437: hualmay\n",
      "trying city 438: yar-sale\n",
      "trying city 439: fort saint john\n",
      "Could not find: fort saint john\n",
      "trying city 440: svarstad\n",
      "trying city 441: kpandae\n",
      "trying city 442: pacifica\n",
      "trying city 443: borisoglebsk\n",
      "trying city 444: mahebourg\n",
      "trying city 445: san lawrenz\n",
      "trying city 446: merauke\n",
      "trying city 447: changji\n",
      "trying city 448: marsh harbour\n",
      "trying city 449: san patricio\n",
      "trying city 450: charters towers\n",
      "trying city 451: north bend\n",
      "trying city 452: victor harbor\n",
      "trying city 453: kahului\n",
      "trying city 454: sobolevo\n",
      "trying city 455: luanda\n",
      "trying city 456: aasiaat\n",
      "trying city 457: tumannyy\n",
      "Could not find: tumannyy\n",
      "trying city 458: beira\n",
      "trying city 459: manicore\n",
      "trying city 460: apollonia\n",
      "trying city 461: asyut\n",
      "trying city 462: tabiauea\n",
      "Could not find: tabiauea\n",
      "trying city 463: sur\n",
      "trying city 464: cockburn harbour\n",
      "Could not find: cockburn harbour\n",
      "trying city 465: riyadh\n",
      "trying city 466: araguaina\n",
      "trying city 467: kavieng\n",
      "trying city 468: doctor juan manuel frutos\n",
      "trying city 469: stornoway\n",
      "trying city 470: kirkenaer\n",
      "trying city 471: datong\n",
      "trying city 472: arroio grande\n",
      "trying city 473: tiznit\n",
      "trying city 474: vila franca do campo\n",
      "trying city 475: angoche\n",
      "trying city 476: belmonte\n",
      "trying city 477: halalo\n",
      "Could not find: halalo\n",
      "trying city 478: kolondieba\n",
      "trying city 479: sioux falls\n",
      "trying city 480: jalu\n",
      "trying city 481: sahuaripa\n",
      "trying city 482: alice springs\n",
      "trying city 483: blairmore\n",
      "trying city 484: boke\n",
      "trying city 485: togur\n",
      "trying city 486: andapa\n",
      "trying city 487: okhotsk\n",
      "trying city 488: mae chan\n",
      "trying city 489: waipawa\n",
      "trying city 490: palabuhanratu\n",
      "Could not find: palabuhanratu\n",
      "trying city 491: samarai\n",
      "trying city 492: paysandu\n",
      "trying city 493: severo-yeniseyskiy\n",
      "trying city 494: port lincoln\n",
      "trying city 495: amderma\n",
      "Could not find: amderma\n",
      "trying city 496: laguna\n",
      "trying city 497: werda\n",
      "trying city 498: suileng\n",
      "trying city 499: ygatimi\n",
      "trying city 500: chapada dos guimaraes\n",
      "trying city 501: naantali\n",
      "trying city 502: agua dulce\n",
      "trying city 503: tura\n",
      "trying city 504: huanren\n",
      "trying city 505: alta floresta\n",
      "trying city 506: santa maria\n",
      "trying city 507: maghama\n",
      "Could not find: maghama\n",
      "trying city 508: terrace\n",
      "trying city 509: kushima\n",
      "trying city 510: opochka\n",
      "trying city 511: melo\n",
      "trying city 512: port keats\n",
      "trying city 513: abalak\n",
      "trying city 514: puerto narino\n",
      "trying city 515: goderich\n",
      "trying city 516: darnah\n",
      "trying city 517: biak\n",
      "trying city 518: usak\n",
      "trying city 519: ayna\n",
      "trying city 520: altamont\n",
      "trying city 521: meulaboh\n",
      "trying city 522: evinayong\n",
      "trying city 523: college place\n",
      "trying city 524: pandaria\n",
      "trying city 525: bathsheba\n",
      "trying city 526: gatton\n",
      "trying city 527: skibotn\n",
      "trying city 528: fortuna\n",
      "trying city 529: deputatskiy\n",
      "trying city 530: marzuq\n",
      "trying city 531: chapais\n",
      "trying city 532: beloha\n",
      "trying city 533: lalibela\n",
      "trying city 534: grand-lahou\n",
      "trying city 535: naze\n",
      "trying city 536: berdigestyakh\n",
      "trying city 537: nhulunbuy\n",
      "trying city 538: ekhabi\n",
      "trying city 539: jennings\n",
      "trying city 540: arica\n",
      "trying city 541: hambantota\n",
      "trying city 542: northam\n",
      "trying city 543: weligama\n",
      "trying city 544: ayr\n",
      "trying city 545: eucaliptus\n",
      "trying city 546: urumqi\n",
      "trying city 547: piacabucu\n",
      "trying city 548: mandalgovi\n",
      "trying city 549: mount gambier\n",
      "trying city 550: lodwar\n",
      "trying city 551: churapcha\n",
      "trying city 552: takoradi\n",
      "trying city 553: baruun-urt\n",
      "trying city 554: bokoro\n",
      "trying city 555: san jose\n",
      "trying city 556: kaspiyskiy\n",
      "trying city 557: andenes\n",
      "trying city 558: thinadhoo\n",
      "trying city 559: narasannapeta\n",
      "trying city 560: blagoyevo\n",
      "trying city 561: yebaishou\n",
      "trying city 562: woodbury\n",
      "trying city 563: lujan\n",
      "trying city 564: arkhangelsk\n",
      "trying city 565: payakumbuh\n",
      "trying city 566: antalaha\n",
      "trying city 567: itoman\n",
      "trying city 568: farah\n",
      "trying city 569: ulagan\n",
      "trying city 570: tomatlan\n",
      "trying city 571: concepcion del uruguay\n",
      "trying city 572: puerto gaitan\n",
      "trying city 573: saint-augustin\n",
      "trying city 574: verkh-usugli\n",
      "trying city 575: bukoba\n",
      "trying city 576: rurrenabaque\n",
      "trying city 577: tubuala\n",
      "trying city 578: roald\n",
      "trying city 579: arnes\n",
      "trying city 580: buin\n",
      "trying city 581: palmer\n",
      "trying city 582: oranjemund\n",
      "trying city 583: poum\n",
      "trying city 584: barrhead\n",
      "trying city 585: huarmey\n"
     ]
    },
    {
     "name": "stdout",
     "output_type": "stream",
     "text": [
      "trying city 586: atambua\n",
      "trying city 587: mounana\n",
      "trying city 588: surt\n",
      "trying city 589: kainantu\n",
      "trying city 590: faya\n",
      "trying city 591: qasigiannguit\n",
      "trying city 592: poitiers\n",
      "trying city 593: sumbe\n",
      "trying city 594: norman wells\n",
      "trying city 595: aripuana\n",
      "trying city 596: tanout\n",
      "trying city 597: billings\n",
      "trying city 598: abomsa\n",
      "trying city 599: salina\n",
      "trying city 600: dien bien\n",
      "Could not find: dien bien\n",
      "trying city 601: westpunt\n",
      "Could not find: westpunt\n"
     ]
    }
   ],
   "source": [
    "lat = []\n",
    "lon = []\n",
    "temp_max = []\n",
    "humidity = []\n",
    "clouds = []\n",
    "wind_speed = []\n",
    "country = []\n",
    "date = []\n",
    "cities_found = []\n",
    "count = 0\n",
    "\n",
    "for city in cities:\n",
    "    \n",
    "    query_url = url + \"appid=\" + weather_api_key + \"&q=\" + city + \"&units=imperial\"\n",
    "    \n",
    "    # Get weather data\n",
    "    try: \n",
    "        print(\"trying city \" + str(count) + \": \" + city)\n",
    "        weather_response = requests.get(query_url)\n",
    "        weather_json = weather_response.json()\n",
    "    \n",
    "        lat.append(weather_json[\"coord\"][\"lat\"])\n",
    "        lon.append(weather_json[\"coord\"][\"lon\"])\n",
    "        temp_max.append(weather_json[\"main\"][\"temp_max\"])\n",
    "        humidity.append(weather_json[\"main\"][\"humidity\"])\n",
    "        clouds.append(weather_json[\"clouds\"][\"all\"])\n",
    "        wind_speed.append(weather_json[\"wind\"][\"speed\"])\n",
    "        country.append(weather_json[\"sys\"][\"country\"])\n",
    "        date.append(weather_json[\"dt\"])\n",
    "        \n",
    "        cities_found.append(city)\n",
    "        \n",
    "    except:\n",
    "        \n",
    "        print(\"Could not find: \" + city)\n",
    "    \n",
    "    count = count + 1\n",
    "    \n",
    "    \n",
    "    "
   ]
  },
  {
   "cell_type": "code",
   "execution_count": 33,
   "metadata": {},
   "outputs": [],
   "source": [
    "cities_df = pd.DataFrame({\n",
    "    \"City\": cities_found,\n",
    "    \"Latitude\": lat,\n",
    "    \"Longitude\": lon,\n",
    "    \"Temperature (F)\": temp_max,\n",
    "    \"Humidity (%)\": humidity,\n",
    "    \"Cloudiness (%)\": clouds,\n",
    "    \"Wind Speed (mph)\": wind_speed,\n",
    "    \"Country\": country,\n",
    "    \"Date\": date\n",
    "})"
   ]
  },
  {
   "cell_type": "code",
   "execution_count": 34,
   "metadata": {
    "scrolled": true
   },
   "outputs": [
    {
     "data": {
      "text/html": [
       "<div>\n",
       "<style scoped>\n",
       "    .dataframe tbody tr th:only-of-type {\n",
       "        vertical-align: middle;\n",
       "    }\n",
       "\n",
       "    .dataframe tbody tr th {\n",
       "        vertical-align: top;\n",
       "    }\n",
       "\n",
       "    .dataframe thead th {\n",
       "        text-align: right;\n",
       "    }\n",
       "</style>\n",
       "<table border=\"1\" class=\"dataframe\">\n",
       "  <thead>\n",
       "    <tr style=\"text-align: right;\">\n",
       "      <th></th>\n",
       "      <th>City</th>\n",
       "      <th>Latitude</th>\n",
       "      <th>Longitude</th>\n",
       "      <th>Temperature (F)</th>\n",
       "      <th>Humidity (%)</th>\n",
       "      <th>Cloudiness (%)</th>\n",
       "      <th>Wind Speed (mph)</th>\n",
       "      <th>Country</th>\n",
       "      <th>Date</th>\n",
       "    </tr>\n",
       "  </thead>\n",
       "  <tbody>\n",
       "    <tr>\n",
       "      <th>0</th>\n",
       "      <td>busselton</td>\n",
       "      <td>-33.6500</td>\n",
       "      <td>115.3333</td>\n",
       "      <td>48.96</td>\n",
       "      <td>87</td>\n",
       "      <td>2</td>\n",
       "      <td>7.43</td>\n",
       "      <td>AU</td>\n",
       "      <td>1661469806</td>\n",
       "    </tr>\n",
       "    <tr>\n",
       "      <th>1</th>\n",
       "      <td>mataura</td>\n",
       "      <td>-46.1927</td>\n",
       "      <td>168.8643</td>\n",
       "      <td>51.48</td>\n",
       "      <td>56</td>\n",
       "      <td>0</td>\n",
       "      <td>1.52</td>\n",
       "      <td>NZ</td>\n",
       "      <td>1661469806</td>\n",
       "    </tr>\n",
       "    <tr>\n",
       "      <th>2</th>\n",
       "      <td>bredasdorp</td>\n",
       "      <td>-34.5322</td>\n",
       "      <td>20.0403</td>\n",
       "      <td>46.13</td>\n",
       "      <td>81</td>\n",
       "      <td>3</td>\n",
       "      <td>7.05</td>\n",
       "      <td>ZA</td>\n",
       "      <td>1661469806</td>\n",
       "    </tr>\n",
       "    <tr>\n",
       "      <th>3</th>\n",
       "      <td>nanortalik</td>\n",
       "      <td>60.1432</td>\n",
       "      <td>-45.2371</td>\n",
       "      <td>43.48</td>\n",
       "      <td>93</td>\n",
       "      <td>100</td>\n",
       "      <td>6.71</td>\n",
       "      <td>GL</td>\n",
       "      <td>1661469807</td>\n",
       "    </tr>\n",
       "    <tr>\n",
       "      <th>4</th>\n",
       "      <td>puerto ayora</td>\n",
       "      <td>-0.7393</td>\n",
       "      <td>-90.3518</td>\n",
       "      <td>66.54</td>\n",
       "      <td>94</td>\n",
       "      <td>24</td>\n",
       "      <td>4.00</td>\n",
       "      <td>EC</td>\n",
       "      <td>1661469594</td>\n",
       "    </tr>\n",
       "  </tbody>\n",
       "</table>\n",
       "</div>"
      ],
      "text/plain": [
       "           City  Latitude  Longitude  Temperature (F)  Humidity (%)  \\\n",
       "0     busselton  -33.6500   115.3333            48.96            87   \n",
       "1       mataura  -46.1927   168.8643            51.48            56   \n",
       "2    bredasdorp  -34.5322    20.0403            46.13            81   \n",
       "3    nanortalik   60.1432   -45.2371            43.48            93   \n",
       "4  puerto ayora   -0.7393   -90.3518            66.54            94   \n",
       "\n",
       "   Cloudiness (%)  Wind Speed (mph) Country        Date  \n",
       "0               2              7.43      AU  1661469806  \n",
       "1               0              1.52      NZ  1661469806  \n",
       "2               3              7.05      ZA  1661469806  \n",
       "3             100              6.71      GL  1661469807  \n",
       "4              24              4.00      EC  1661469594  "
      ]
     },
     "execution_count": 34,
     "metadata": {},
     "output_type": "execute_result"
    }
   ],
   "source": [
    "cities_df.head()"
   ]
  },
  {
   "cell_type": "markdown",
   "metadata": {},
   "source": [
    "### Convert Raw Data to DataFrame\n",
    "* Export the city data into a .csv.\n",
    "* Display the DataFrame"
   ]
  },
  {
   "cell_type": "code",
   "execution_count": 38,
   "metadata": {
    "scrolled": true
   },
   "outputs": [
    {
     "data": {
      "text/html": [
       "<div>\n",
       "<style scoped>\n",
       "    .dataframe tbody tr th:only-of-type {\n",
       "        vertical-align: middle;\n",
       "    }\n",
       "\n",
       "    .dataframe tbody tr th {\n",
       "        vertical-align: top;\n",
       "    }\n",
       "\n",
       "    .dataframe thead th {\n",
       "        text-align: right;\n",
       "    }\n",
       "</style>\n",
       "<table border=\"1\" class=\"dataframe\">\n",
       "  <thead>\n",
       "    <tr style=\"text-align: right;\">\n",
       "      <th></th>\n",
       "      <th>City</th>\n",
       "      <th>Latitude</th>\n",
       "      <th>Longitude</th>\n",
       "      <th>Temperature (F)</th>\n",
       "      <th>Humidity (%)</th>\n",
       "      <th>Cloudiness (%)</th>\n",
       "      <th>Wind Speed (mph)</th>\n",
       "      <th>Country</th>\n",
       "      <th>Date</th>\n",
       "    </tr>\n",
       "  </thead>\n",
       "  <tbody>\n",
       "    <tr>\n",
       "      <th>0</th>\n",
       "      <td>busselton</td>\n",
       "      <td>-33.6500</td>\n",
       "      <td>115.3333</td>\n",
       "      <td>48.96</td>\n",
       "      <td>87</td>\n",
       "      <td>2</td>\n",
       "      <td>7.43</td>\n",
       "      <td>AU</td>\n",
       "      <td>1661469806</td>\n",
       "    </tr>\n",
       "    <tr>\n",
       "      <th>1</th>\n",
       "      <td>mataura</td>\n",
       "      <td>-46.1927</td>\n",
       "      <td>168.8643</td>\n",
       "      <td>51.48</td>\n",
       "      <td>56</td>\n",
       "      <td>0</td>\n",
       "      <td>1.52</td>\n",
       "      <td>NZ</td>\n",
       "      <td>1661469806</td>\n",
       "    </tr>\n",
       "    <tr>\n",
       "      <th>2</th>\n",
       "      <td>bredasdorp</td>\n",
       "      <td>-34.5322</td>\n",
       "      <td>20.0403</td>\n",
       "      <td>46.13</td>\n",
       "      <td>81</td>\n",
       "      <td>3</td>\n",
       "      <td>7.05</td>\n",
       "      <td>ZA</td>\n",
       "      <td>1661469806</td>\n",
       "    </tr>\n",
       "    <tr>\n",
       "      <th>3</th>\n",
       "      <td>nanortalik</td>\n",
       "      <td>60.1432</td>\n",
       "      <td>-45.2371</td>\n",
       "      <td>43.48</td>\n",
       "      <td>93</td>\n",
       "      <td>100</td>\n",
       "      <td>6.71</td>\n",
       "      <td>GL</td>\n",
       "      <td>1661469807</td>\n",
       "    </tr>\n",
       "    <tr>\n",
       "      <th>4</th>\n",
       "      <td>puerto ayora</td>\n",
       "      <td>-0.7393</td>\n",
       "      <td>-90.3518</td>\n",
       "      <td>66.54</td>\n",
       "      <td>94</td>\n",
       "      <td>24</td>\n",
       "      <td>4.00</td>\n",
       "      <td>EC</td>\n",
       "      <td>1661469594</td>\n",
       "    </tr>\n",
       "  </tbody>\n",
       "</table>\n",
       "</div>"
      ],
      "text/plain": [
       "           City  Latitude  Longitude  Temperature (F)  Humidity (%)  \\\n",
       "0     busselton  -33.6500   115.3333            48.96            87   \n",
       "1       mataura  -46.1927   168.8643            51.48            56   \n",
       "2    bredasdorp  -34.5322    20.0403            46.13            81   \n",
       "3    nanortalik   60.1432   -45.2371            43.48            93   \n",
       "4  puerto ayora   -0.7393   -90.3518            66.54            94   \n",
       "\n",
       "   Cloudiness (%)  Wind Speed (mph) Country        Date  \n",
       "0               2              7.43      AU  1661469806  \n",
       "1               0              1.52      NZ  1661469806  \n",
       "2               3              7.05      ZA  1661469806  \n",
       "3             100              6.71      GL  1661469807  \n",
       "4              24              4.00      EC  1661469594  "
      ]
     },
     "execution_count": 38,
     "metadata": {},
     "output_type": "execute_result"
    }
   ],
   "source": [
    "cities_df.to_csv('cities.csv', index=False)\n",
    "cities_df.head()"
   ]
  },
  {
   "cell_type": "code",
   "execution_count": 39,
   "metadata": {},
   "outputs": [
    {
     "data": {
      "text/html": [
       "<div>\n",
       "<style scoped>\n",
       "    .dataframe tbody tr th:only-of-type {\n",
       "        vertical-align: middle;\n",
       "    }\n",
       "\n",
       "    .dataframe tbody tr th {\n",
       "        vertical-align: top;\n",
       "    }\n",
       "\n",
       "    .dataframe thead th {\n",
       "        text-align: right;\n",
       "    }\n",
       "</style>\n",
       "<table border=\"1\" class=\"dataframe\">\n",
       "  <thead>\n",
       "    <tr style=\"text-align: right;\">\n",
       "      <th></th>\n",
       "      <th>Latitude</th>\n",
       "      <th>Longitude</th>\n",
       "      <th>Temperature (F)</th>\n",
       "      <th>Humidity (%)</th>\n",
       "      <th>Cloudiness (%)</th>\n",
       "      <th>Wind Speed (mph)</th>\n",
       "      <th>Date</th>\n",
       "    </tr>\n",
       "  </thead>\n",
       "  <tbody>\n",
       "    <tr>\n",
       "      <th>count</th>\n",
       "      <td>559.000000</td>\n",
       "      <td>559.000000</td>\n",
       "      <td>559.000000</td>\n",
       "      <td>559.000000</td>\n",
       "      <td>559.000000</td>\n",
       "      <td>559.000000</td>\n",
       "      <td>5.590000e+02</td>\n",
       "    </tr>\n",
       "    <tr>\n",
       "      <th>mean</th>\n",
       "      <td>20.743554</td>\n",
       "      <td>17.916470</td>\n",
       "      <td>67.093971</td>\n",
       "      <td>73.216458</td>\n",
       "      <td>51.869410</td>\n",
       "      <td>7.173363</td>\n",
       "      <td>1.661470e+09</td>\n",
       "    </tr>\n",
       "    <tr>\n",
       "      <th>std</th>\n",
       "      <td>34.258460</td>\n",
       "      <td>89.054856</td>\n",
       "      <td>13.753183</td>\n",
       "      <td>19.525225</td>\n",
       "      <td>39.160671</td>\n",
       "      <td>5.236701</td>\n",
       "      <td>1.067155e+02</td>\n",
       "    </tr>\n",
       "    <tr>\n",
       "      <th>min</th>\n",
       "      <td>-54.800000</td>\n",
       "      <td>-175.200000</td>\n",
       "      <td>32.160000</td>\n",
       "      <td>9.000000</td>\n",
       "      <td>0.000000</td>\n",
       "      <td>0.000000</td>\n",
       "      <td>1.661470e+09</td>\n",
       "    </tr>\n",
       "    <tr>\n",
       "      <th>25%</th>\n",
       "      <td>-9.005950</td>\n",
       "      <td>-58.920900</td>\n",
       "      <td>56.270000</td>\n",
       "      <td>63.000000</td>\n",
       "      <td>11.000000</td>\n",
       "      <td>3.440000</td>\n",
       "      <td>1.661470e+09</td>\n",
       "    </tr>\n",
       "    <tr>\n",
       "      <th>50%</th>\n",
       "      <td>26.184200</td>\n",
       "      <td>23.047100</td>\n",
       "      <td>68.110000</td>\n",
       "      <td>78.000000</td>\n",
       "      <td>51.000000</td>\n",
       "      <td>5.790000</td>\n",
       "      <td>1.661470e+09</td>\n",
       "    </tr>\n",
       "    <tr>\n",
       "      <th>75%</th>\n",
       "      <td>51.163000</td>\n",
       "      <td>92.892200</td>\n",
       "      <td>77.840000</td>\n",
       "      <td>87.000000</td>\n",
       "      <td>95.500000</td>\n",
       "      <td>9.630000</td>\n",
       "      <td>1.661470e+09</td>\n",
       "    </tr>\n",
       "    <tr>\n",
       "      <th>max</th>\n",
       "      <td>78.218600</td>\n",
       "      <td>179.316700</td>\n",
       "      <td>100.090000</td>\n",
       "      <td>100.000000</td>\n",
       "      <td>100.000000</td>\n",
       "      <td>37.980000</td>\n",
       "      <td>1.661470e+09</td>\n",
       "    </tr>\n",
       "  </tbody>\n",
       "</table>\n",
       "</div>"
      ],
      "text/plain": [
       "         Latitude   Longitude  Temperature (F)  Humidity (%)  Cloudiness (%)  \\\n",
       "count  559.000000  559.000000       559.000000    559.000000      559.000000   \n",
       "mean    20.743554   17.916470        67.093971     73.216458       51.869410   \n",
       "std     34.258460   89.054856        13.753183     19.525225       39.160671   \n",
       "min    -54.800000 -175.200000        32.160000      9.000000        0.000000   \n",
       "25%     -9.005950  -58.920900        56.270000     63.000000       11.000000   \n",
       "50%     26.184200   23.047100        68.110000     78.000000       51.000000   \n",
       "75%     51.163000   92.892200        77.840000     87.000000       95.500000   \n",
       "max     78.218600  179.316700       100.090000    100.000000      100.000000   \n",
       "\n",
       "       Wind Speed (mph)          Date  \n",
       "count        559.000000  5.590000e+02  \n",
       "mean           7.173363  1.661470e+09  \n",
       "std            5.236701  1.067155e+02  \n",
       "min            0.000000  1.661470e+09  \n",
       "25%            3.440000  1.661470e+09  \n",
       "50%            5.790000  1.661470e+09  \n",
       "75%            9.630000  1.661470e+09  \n",
       "max           37.980000  1.661470e+09  "
      ]
     },
     "execution_count": 39,
     "metadata": {},
     "output_type": "execute_result"
    }
   ],
   "source": [
    "cities_df.describe()"
   ]
  },
  {
   "cell_type": "markdown",
   "metadata": {},
   "source": [
    "## Inspect the data and remove the cities where the humidity > 100%.\n",
    "----\n",
    "Skip this step if there are no cities that have humidity > 100%. "
   ]
  },
  {
   "cell_type": "code",
   "execution_count": null,
   "metadata": {},
   "outputs": [],
   "source": []
  },
  {
   "cell_type": "code",
   "execution_count": 6,
   "metadata": {},
   "outputs": [
    {
     "data": {
      "text/html": [
       "<div>\n",
       "<style scoped>\n",
       "    .dataframe tbody tr th:only-of-type {\n",
       "        vertical-align: middle;\n",
       "    }\n",
       "\n",
       "    .dataframe tbody tr th {\n",
       "        vertical-align: top;\n",
       "    }\n",
       "\n",
       "    .dataframe thead th {\n",
       "        text-align: right;\n",
       "    }\n",
       "</style>\n",
       "<table border=\"1\" class=\"dataframe\">\n",
       "  <thead>\n",
       "    <tr style=\"text-align: right;\">\n",
       "      <th></th>\n",
       "      <th>Lat</th>\n",
       "      <th>Lng</th>\n",
       "      <th>Max Temp</th>\n",
       "      <th>Humidity</th>\n",
       "      <th>Cloudiness</th>\n",
       "      <th>Wind Speed</th>\n",
       "      <th>Date</th>\n",
       "    </tr>\n",
       "  </thead>\n",
       "  <tbody>\n",
       "    <tr>\n",
       "      <th>count</th>\n",
       "      <td>550.000000</td>\n",
       "      <td>550.000000</td>\n",
       "      <td>550.000000</td>\n",
       "      <td>550.000000</td>\n",
       "      <td>550.000000</td>\n",
       "      <td>550.000000</td>\n",
       "      <td>5.500000e+02</td>\n",
       "    </tr>\n",
       "    <tr>\n",
       "      <th>mean</th>\n",
       "      <td>19.973545</td>\n",
       "      <td>17.124400</td>\n",
       "      <td>58.331400</td>\n",
       "      <td>67.890909</td>\n",
       "      <td>52.141818</td>\n",
       "      <td>8.544800</td>\n",
       "      <td>1.585764e+09</td>\n",
       "    </tr>\n",
       "    <tr>\n",
       "      <th>std</th>\n",
       "      <td>33.284840</td>\n",
       "      <td>91.595451</td>\n",
       "      <td>25.795297</td>\n",
       "      <td>20.864881</td>\n",
       "      <td>35.766469</td>\n",
       "      <td>6.078869</td>\n",
       "      <td>5.539674e+01</td>\n",
       "    </tr>\n",
       "    <tr>\n",
       "      <th>min</th>\n",
       "      <td>-54.800000</td>\n",
       "      <td>-179.170000</td>\n",
       "      <td>-11.340000</td>\n",
       "      <td>9.000000</td>\n",
       "      <td>0.000000</td>\n",
       "      <td>0.160000</td>\n",
       "      <td>1.585764e+09</td>\n",
       "    </tr>\n",
       "    <tr>\n",
       "      <th>25%</th>\n",
       "      <td>-8.077500</td>\n",
       "      <td>-64.627500</td>\n",
       "      <td>42.800000</td>\n",
       "      <td>55.000000</td>\n",
       "      <td>20.000000</td>\n",
       "      <td>4.525000</td>\n",
       "      <td>1.585764e+09</td>\n",
       "    </tr>\n",
       "    <tr>\n",
       "      <th>50%</th>\n",
       "      <td>23.630000</td>\n",
       "      <td>19.635000</td>\n",
       "      <td>64.940000</td>\n",
       "      <td>72.000000</td>\n",
       "      <td>57.000000</td>\n",
       "      <td>7.325000</td>\n",
       "      <td>1.585764e+09</td>\n",
       "    </tr>\n",
       "    <tr>\n",
       "      <th>75%</th>\n",
       "      <td>48.672500</td>\n",
       "      <td>97.350000</td>\n",
       "      <td>78.800000</td>\n",
       "      <td>83.000000</td>\n",
       "      <td>86.750000</td>\n",
       "      <td>11.410000</td>\n",
       "      <td>1.585764e+09</td>\n",
       "    </tr>\n",
       "    <tr>\n",
       "      <th>max</th>\n",
       "      <td>78.220000</td>\n",
       "      <td>179.320000</td>\n",
       "      <td>102.200000</td>\n",
       "      <td>100.000000</td>\n",
       "      <td>100.000000</td>\n",
       "      <td>46.080000</td>\n",
       "      <td>1.585764e+09</td>\n",
       "    </tr>\n",
       "  </tbody>\n",
       "</table>\n",
       "</div>"
      ],
      "text/plain": [
       "              Lat         Lng    Max Temp    Humidity  Cloudiness  Wind Speed  \\\n",
       "count  550.000000  550.000000  550.000000  550.000000  550.000000  550.000000   \n",
       "mean    19.973545   17.124400   58.331400   67.890909   52.141818    8.544800   \n",
       "std     33.284840   91.595451   25.795297   20.864881   35.766469    6.078869   \n",
       "min    -54.800000 -179.170000  -11.340000    9.000000    0.000000    0.160000   \n",
       "25%     -8.077500  -64.627500   42.800000   55.000000   20.000000    4.525000   \n",
       "50%     23.630000   19.635000   64.940000   72.000000   57.000000    7.325000   \n",
       "75%     48.672500   97.350000   78.800000   83.000000   86.750000   11.410000   \n",
       "max     78.220000  179.320000  102.200000  100.000000  100.000000   46.080000   \n",
       "\n",
       "               Date  \n",
       "count  5.500000e+02  \n",
       "mean   1.585764e+09  \n",
       "std    5.539674e+01  \n",
       "min    1.585764e+09  \n",
       "25%    1.585764e+09  \n",
       "50%    1.585764e+09  \n",
       "75%    1.585764e+09  \n",
       "max    1.585764e+09  "
      ]
     },
     "execution_count": 6,
     "metadata": {},
     "output_type": "execute_result"
    }
   ],
   "source": []
  },
  {
   "cell_type": "code",
   "execution_count": null,
   "metadata": {},
   "outputs": [],
   "source": []
  },
  {
   "cell_type": "code",
   "execution_count": 17,
   "metadata": {},
   "outputs": [
    {
     "data": {
      "text/plain": [
       "Int64Index([], dtype='int64')"
      ]
     },
     "execution_count": 17,
     "metadata": {},
     "output_type": "execute_result"
    }
   ],
   "source": [
    "#  Get the indices of cities that have humidity over 100%.\n"
   ]
  },
  {
   "cell_type": "code",
   "execution_count": null,
   "metadata": {},
   "outputs": [],
   "source": []
  },
  {
   "cell_type": "code",
   "execution_count": 19,
   "metadata": {},
   "outputs": [
    {
     "data": {
      "text/html": [
       "<div>\n",
       "<style scoped>\n",
       "    .dataframe tbody tr th:only-of-type {\n",
       "        vertical-align: middle;\n",
       "    }\n",
       "\n",
       "    .dataframe tbody tr th {\n",
       "        vertical-align: top;\n",
       "    }\n",
       "\n",
       "    .dataframe thead th {\n",
       "        text-align: right;\n",
       "    }\n",
       "</style>\n",
       "<table border=\"1\" class=\"dataframe\">\n",
       "  <thead>\n",
       "    <tr style=\"text-align: right;\">\n",
       "      <th></th>\n",
       "      <th>City</th>\n",
       "      <th>Lat</th>\n",
       "      <th>Lng</th>\n",
       "      <th>Max Temp</th>\n",
       "      <th>Humidity</th>\n",
       "      <th>Cloudiness</th>\n",
       "      <th>Wind Speed</th>\n",
       "      <th>Country</th>\n",
       "      <th>Date</th>\n",
       "    </tr>\n",
       "  </thead>\n",
       "  <tbody>\n",
       "    <tr>\n",
       "      <td>0</td>\n",
       "      <td>butaritari</td>\n",
       "      <td>3.07</td>\n",
       "      <td>172.79</td>\n",
       "      <td>83.32</td>\n",
       "      <td>74</td>\n",
       "      <td>84</td>\n",
       "      <td>10.42</td>\n",
       "      <td>KI</td>\n",
       "      <td>1593605283</td>\n",
       "    </tr>\n",
       "    <tr>\n",
       "      <td>1</td>\n",
       "      <td>yerbogachen</td>\n",
       "      <td>61.28</td>\n",
       "      <td>108.01</td>\n",
       "      <td>79.52</td>\n",
       "      <td>58</td>\n",
       "      <td>20</td>\n",
       "      <td>7.70</td>\n",
       "      <td>RU</td>\n",
       "      <td>1593605121</td>\n",
       "    </tr>\n",
       "    <tr>\n",
       "      <td>2</td>\n",
       "      <td>cape town</td>\n",
       "      <td>-33.93</td>\n",
       "      <td>18.42</td>\n",
       "      <td>73.00</td>\n",
       "      <td>77</td>\n",
       "      <td>27</td>\n",
       "      <td>4.70</td>\n",
       "      <td>ZA</td>\n",
       "      <td>1593605039</td>\n",
       "    </tr>\n",
       "    <tr>\n",
       "      <td>3</td>\n",
       "      <td>touba</td>\n",
       "      <td>8.28</td>\n",
       "      <td>-7.68</td>\n",
       "      <td>79.97</td>\n",
       "      <td>75</td>\n",
       "      <td>82</td>\n",
       "      <td>3.58</td>\n",
       "      <td>CI</td>\n",
       "      <td>1593605284</td>\n",
       "    </tr>\n",
       "    <tr>\n",
       "      <td>4</td>\n",
       "      <td>jamestown</td>\n",
       "      <td>42.10</td>\n",
       "      <td>-79.24</td>\n",
       "      <td>64.00</td>\n",
       "      <td>88</td>\n",
       "      <td>1</td>\n",
       "      <td>6.93</td>\n",
       "      <td>US</td>\n",
       "      <td>1593605284</td>\n",
       "    </tr>\n",
       "  </tbody>\n",
       "</table>\n",
       "</div>"
      ],
      "text/plain": [
       "          City    Lat     Lng  Max Temp  Humidity  Cloudiness  Wind Speed  \\\n",
       "0   butaritari   3.07  172.79     83.32        74          84       10.42   \n",
       "1  yerbogachen  61.28  108.01     79.52        58          20        7.70   \n",
       "2    cape town -33.93   18.42     73.00        77          27        4.70   \n",
       "3        touba   8.28   -7.68     79.97        75          82        3.58   \n",
       "4    jamestown  42.10  -79.24     64.00        88           1        6.93   \n",
       "\n",
       "  Country        Date  \n",
       "0      KI  1593605283  \n",
       "1      RU  1593605121  \n",
       "2      ZA  1593605039  \n",
       "3      CI  1593605284  \n",
       "4      US  1593605284  "
      ]
     },
     "execution_count": 19,
     "metadata": {},
     "output_type": "execute_result"
    }
   ],
   "source": [
    "# Make a new DataFrame equal to the city data to drop all humidity outliers by index.\n",
    "# Passing \"inplace=False\" will make a copy of the city_data DataFrame, which we call \"clean_city_data\".\n"
   ]
  },
  {
   "cell_type": "code",
   "execution_count": null,
   "metadata": {},
   "outputs": [],
   "source": [
    "\n"
   ]
  },
  {
   "cell_type": "markdown",
   "metadata": {},
   "source": [
    "## Plotting the Data\n",
    "* Use proper labeling of the plots using plot titles (including date of analysis) and axes labels.\n",
    "* Save the plotted figures as .pngs."
   ]
  },
  {
   "cell_type": "markdown",
   "metadata": {},
   "source": [
    "## Latitude vs. Temperature Plot"
   ]
  },
  {
   "cell_type": "code",
   "execution_count": 42,
   "metadata": {
    "scrolled": true
   },
   "outputs": [
    {
     "data": {
      "image/png": "[encoded data removed]",
      "text/plain": [
       "<Figure size 432x288 with 1 Axes>"
      ]
     },
     "metadata": {
      "needs_background": "light"
     },
     "output_type": "display_data"
    }
   ],
   "source": [
    "cities_df.plot(kind=\"scatter\", x=\"Latitude\", y=\"Temperature (F)\", grid=True,\n",
    "              title=\"City Latitude vs. Max Temperature (8/22/22)\")\n",
    "plt.savefig('Latitude_Temperature.png')\n",
    "plt.show()"
   ]
  },
  {
   "cell_type": "code",
   "execution_count": 41,
   "metadata": {},
   "outputs": [],
   "source": [
    "#This plot displays the relationship between max temperature and latitude"
   ]
  },
  {
   "cell_type": "code",
   "execution_count": null,
   "metadata": {
    "scrolled": true
   },
   "outputs": [],
   "source": []
  },
  {
   "cell_type": "markdown",
   "metadata": {},
   "source": [
    "## Latitude vs. Humidity Plot"
   ]
  },
  {
   "cell_type": "code",
   "execution_count": 43,
   "metadata": {
    "scrolled": true
   },
   "outputs": [
    {
     "data": {
      "image/png": "[encoded data removed]",
      "text/plain": [
       "<Figure size 432x288 with 1 Axes>"
      ]
     },
     "metadata": {
      "needs_background": "light"
     },
     "output_type": "display_data"
    }
   ],
   "source": [
    "cities_df.plot(kind=\"scatter\", x=\"Latitude\", y=\"Humidity (%)\", grid=True,\n",
    "              title=\"City Latitude vs. Humidity (8/22/22)\")\n",
    "plt.savefig('Latitude_Humidity.png')\n",
    "plt.show()"
   ]
  },
  {
   "cell_type": "code",
   "execution_count": null,
   "metadata": {},
   "outputs": [],
   "source": [
    "# This plot displays the relationship between humidity and latitude"
   ]
  },
  {
   "cell_type": "markdown",
   "metadata": {},
   "source": [
    "## Latitude vs. Cloudiness Plot"
   ]
  },
  {
   "cell_type": "code",
   "execution_count": 44,
   "metadata": {
    "scrolled": true
   },
   "outputs": [
    {
     "data": {
      "image/png": "[encoded data removed]",
      "text/plain": [
       "<Figure size 432x288 with 1 Axes>"
      ]
     },
     "metadata": {
      "needs_background": "light"
     },
     "output_type": "display_data"
    }
   ],
   "source": [
    "cities_df.plot(kind=\"scatter\", x=\"Latitude\", y=\"Cloudiness (%)\", grid=True,\n",
    "              title=\"City Latitude vs. Cloudiness (8/22/22)\")\n",
    "plt.savefig('Latitude_Cloudiness.png')\n",
    "plt.show()"
   ]
  },
  {
   "cell_type": "code",
   "execution_count": null,
   "metadata": {},
   "outputs": [],
   "source": [
    "# This plot displays the relationship between cloudiness and latitude"
   ]
  },
  {
   "cell_type": "markdown",
   "metadata": {},
   "source": [
    "## Latitude vs. Wind Speed Plot"
   ]
  },
  {
   "cell_type": "code",
   "execution_count": 45,
   "metadata": {
    "scrolled": true
   },
   "outputs": [
    {
     "data": {
      "image/png": "[encoded data removed]",
      "text/plain": [
       "<Figure size 432x288 with 1 Axes>"
      ]
     },
     "metadata": {
      "needs_background": "light"
     },
     "output_type": "display_data"
    }
   ],
   "source": [
    "cities_df.plot(kind=\"scatter\", x=\"Latitude\", y=\"Wind Speed (mph)\", grid=True,\n",
    "              title=\"City Latitude vs. Wind Speed (8/22/22)\")\n",
    "plt.savefig('Latitude_WingSpeed.png')\n",
    "plt.show()"
   ]
  },
  {
   "cell_type": "code",
   "execution_count": null,
   "metadata": {},
   "outputs": [],
   "source": [
    "# This plot displays the relationship between wind speed and latitude"
   ]
  },
  {
   "cell_type": "markdown",
   "metadata": {},
   "source": [
    "## Linear Regression"
   ]
  },
  {
   "cell_type": "code",
   "execution_count": 46,
   "metadata": {},
   "outputs": [],
   "source": [
    "northern_df = cities_df.loc[cities_df[\"Latitude\"] >= 0]\n",
    "southern_df = cities_df.loc[cities_df[\"Latitude\"] < 0]"
   ]
  },
  {
   "cell_type": "markdown",
   "metadata": {},
   "source": [
    "####  Northern Hemisphere - Max Temp vs. Latitude Linear Regression"
   ]
  },
  {
   "cell_type": "code",
   "execution_count": 49,
   "metadata": {},
   "outputs": [
    {
     "name": "stdout",
     "output_type": "stream",
     "text": [
      "The r-squared is: 0.4754507790018925\n"
     ]
    },
    {
     "data": {
      "image/png": "[encoded data removed]",
      "text/plain": [
       "<Figure size 432x288 with 1 Axes>"
      ]
     },
     "metadata": {
      "needs_background": "light"
     },
     "output_type": "display_data"
    }
   ],
   "source": [
    "(slope, intercept, rvalue, pvalue, stderr) = linregress(northern_df[\"Latitude\"], northern_df[\"Temperature (F)\"])\n",
    "regress_values = northern_df[\"Latitude\"] * slope + intercept\n",
    "line_eq = \"y = \" + str(round(slope,2)) + \"x + \" + str(round(intercept,2))\n",
    "plt.scatter(northern_df[\"Latitude\"], northern_df[\"Temperature (F)\"], marker=\"o\", facecolors=\"red\", edgecolors=\"black\")\n",
    "plt.plot(northern_df[\"Latitude\"],regress_values,\"b-\")\n",
    "plt.annotate(line_eq,(20,40),fontsize=15,color=\"red\")\n",
    "plt.title(\"Northern Hemisphere - Max Temp vs. Latitude\")\n",
    "plt.xlabel(\"Latitude\")\n",
    "plt.ylabel(\"Max Temp (F)\")\n",
    "print(f\"The r-squared is: {rvalue**2}\")\n",
    "plt.show()"
   ]
  },
  {
   "cell_type": "code",
   "execution_count": 50,
   "metadata": {},
   "outputs": [],
   "source": [
    "# This regression displays the relationship between \n",
    "# max temperature and latitude in the northern hemisphere.\n",
    "# There is a moderate correlation.\n"
   ]
  },
  {
   "cell_type": "code",
   "execution_count": null,
   "metadata": {},
   "outputs": [],
   "source": []
  },
  {
   "cell_type": "markdown",
   "metadata": {},
   "source": [
    "####  Southern Hemisphere - Max Temp vs. Latitude Linear Regression"
   ]
  },
  {
   "cell_type": "code",
   "execution_count": 51,
   "metadata": {},
   "outputs": [
    {
     "name": "stdout",
     "output_type": "stream",
     "text": [
      "The r-squared is: 0.5430548173602506\n"
     ]
    },
    {
     "data": {
      "image/png": "[encoded data removed]",
      "text/plain": [
       "<Figure size 432x288 with 1 Axes>"
      ]
     },
     "metadata": {
      "needs_background": "light"
     },
     "output_type": "display_data"
    }
   ],
   "source": [
    "(slope, intercept, rvalue, pvalue, stderr) = linregress(southern_df[\"Latitude\"], southern_df[\"Temperature (F)\"])\n",
    "regress_values = southern_df[\"Latitude\"] * slope + intercept\n",
    "line_eq = \"y = \" + str(round(slope,2)) + \"x + \" + str(round(intercept,2))\n",
    "plt.scatter(southern_df[\"Latitude\"], southern_df[\"Temperature (F)\"], marker=\"o\", facecolors=\"red\", edgecolors=\"black\")\n",
    "plt.plot(southern_df[\"Latitude\"],regress_values,\"b-\")\n",
    "plt.annotate(line_eq,(-50,80),fontsize=15,color=\"red\")\n",
    "plt.title(\"Southern Hemisphere - Max Temp vs. Latitude\")\n",
    "plt.xlabel(\"Latitude\")\n",
    "plt.ylabel(\"Max Temp (F)\")\n",
    "print(f\"The r-squared is: {rvalue**2}\")\n",
    "plt.show()"
   ]
  },
  {
   "cell_type": "code",
   "execution_count": 52,
   "metadata": {},
   "outputs": [],
   "source": [
    "# This regression displays the relationship between \n",
    "# max temperature and latitude in the southern hemisphere.\n",
    "# There is a moderate correlation."
   ]
  },
  {
   "cell_type": "markdown",
   "metadata": {},
   "source": [
    "####  Northern Hemisphere - Humidity (%) vs. Latitude Linear Regression"
   ]
  },
  {
   "cell_type": "code",
   "execution_count": 53,
   "metadata": {},
   "outputs": [
    {
     "name": "stdout",
     "output_type": "stream",
     "text": [
      "The r-squared is: 0.0002104035232993731\n"
     ]
    },
    {
     "data": {
      "image/png": "[encoded data removed]",
      "text/plain": [
       "<Figure size 432x288 with 1 Axes>"
      ]
     },
     "metadata": {
      "needs_background": "light"
     },
     "output_type": "display_data"
    }
   ],
   "source": [
    "(slope, intercept, rvalue, pvalue, stderr) = linregress(northern_df[\"Latitude\"], northern_df[\"Humidity (%)\"])\n",
    "regress_values = northern_df[\"Latitude\"] * slope + intercept\n",
    "line_eq = \"y = \" + str(round(slope,2)) + \"x + \" + str(round(intercept,2))\n",
    "plt.scatter(northern_df[\"Latitude\"], northern_df[\"Humidity (%)\"], marker=\"o\", facecolors=\"red\", edgecolors=\"black\")\n",
    "plt.plot(northern_df[\"Latitude\"],regress_values,\"b-\")\n",
    "plt.annotate(line_eq,(40,10),fontsize=15,color=\"red\")\n",
    "plt.title(\"Northern Hemisphere - Humidity vs. Latitude\")\n",
    "plt.xlabel(\"Latitude\")\n",
    "plt.ylabel(\"Humidity (%)\")\n",
    "print(f\"The r-squared is: {rvalue**2}\")\n",
    "plt.show()"
   ]
  },
  {
   "cell_type": "code",
   "execution_count": null,
   "metadata": {},
   "outputs": [],
   "source": [
    "# This regression displays the relationship between \n",
    "# humidity and latitude in the northern hemisphere.\n",
    "# There is very little correlation."
   ]
  },
  {
   "cell_type": "markdown",
   "metadata": {},
   "source": [
    "####  Southern Hemisphere - Humidity (%) vs. Latitude Linear Regression"
   ]
  },
  {
   "cell_type": "code",
   "execution_count": 55,
   "metadata": {},
   "outputs": [
    {
     "name": "stdout",
     "output_type": "stream",
     "text": [
      "The r-squared is: 8.146146178060606e-05\n"
     ]
    },
    {
     "data": {
      "image/png": "[encoded data removed]",
      "text/plain": [
       "<Figure size 432x288 with 1 Axes>"
      ]
     },
     "metadata": {
      "needs_background": "light"
     },
     "output_type": "display_data"
    }
   ],
   "source": [
    "(slope, intercept, rvalue, pvalue, stderr) = linregress(southern_df[\"Latitude\"], southern_df[\"Humidity (%)\"])\n",
    "regress_values = southern_df[\"Latitude\"] * slope + intercept\n",
    "line_eq = \"y = \" + str(round(slope,2)) + \"x + \" + str(round(intercept,2))\n",
    "plt.scatter(southern_df[\"Latitude\"], southern_df[\"Humidity (%)\"], marker=\"o\", facecolors=\"red\", edgecolors=\"black\")\n",
    "plt.plot(southern_df[\"Latitude\"],regress_values,\"b-\")\n",
    "plt.annotate(line_eq,(-50,20),fontsize=15,color=\"red\")\n",
    "plt.title(\"Southern Hemisphere - Humidity vs. Latitude\")\n",
    "plt.xlabel(\"Latitude\")\n",
    "plt.ylabel(\"Humidity (%)\")\n",
    "print(f\"The r-squared is: {rvalue**2}\")\n",
    "plt.show()"
   ]
  },
  {
   "cell_type": "code",
   "execution_count": null,
   "metadata": {},
   "outputs": [],
   "source": [
    "# This regression displays the relationship between \n",
    "# humidity and latitude in the southern hemisphere.\n",
    "# There is very little correlation."
   ]
  },
  {
   "cell_type": "markdown",
   "metadata": {},
   "source": [
    "####  Northern Hemisphere - Cloudiness (%) vs. Latitude Linear Regression"
   ]
  },
  {
   "cell_type": "code",
   "execution_count": 56,
   "metadata": {},
   "outputs": [
    {
     "name": "stdout",
     "output_type": "stream",
     "text": [
      "The r-squared is: 0.0018199683608368078\n"
     ]
    },
    {
     "data": {
      "image/png": "[encoded data removed]",
      "text/plain": [
       "<Figure size 432x288 with 1 Axes>"
      ]
     },
     "metadata": {
      "needs_background": "light"
     },
     "output_type": "display_data"
    }
   ],
   "source": [
    "(slope, intercept, rvalue, pvalue, stderr) = linregress(northern_df[\"Latitude\"], northern_df[\"Cloudiness (%)\"])\n",
    "regress_values = northern_df[\"Latitude\"] * slope + intercept\n",
    "line_eq = \"y = \" + str(round(slope,2)) + \"x + \" + str(round(intercept,2))\n",
    "plt.scatter(northern_df[\"Latitude\"], northern_df[\"Cloudiness (%)\"], marker=\"o\", facecolors=\"red\", edgecolors=\"black\")\n",
    "plt.plot(northern_df[\"Latitude\"],regress_values,\"b-\")\n",
    "plt.annotate(line_eq,(40,10),fontsize=15,color=\"red\")\n",
    "plt.title(\"Northern Hemisphere - Cloudiness vs. Latitude\")\n",
    "plt.xlabel(\"Latitude\")\n",
    "plt.ylabel(\"Cloudiness (%)\")\n",
    "print(f\"The r-squared is: {rvalue**2}\")\n",
    "plt.show()"
   ]
  },
  {
   "cell_type": "code",
   "execution_count": null,
   "metadata": {},
   "outputs": [],
   "source": [
    "# This regression displays the relationship between \n",
    "# cloudiness and latitude in the northern hemisphere.\n",
    "# There is very little correlation."
   ]
  },
  {
   "cell_type": "markdown",
   "metadata": {},
   "source": [
    "####  Southern Hemisphere - Cloudiness (%) vs. Latitude Linear Regression"
   ]
  },
  {
   "cell_type": "code",
   "execution_count": 57,
   "metadata": {},
   "outputs": [
    {
     "name": "stdout",
     "output_type": "stream",
     "text": [
      "The r-squared is: 0.012065481134180463\n"
     ]
    },
    {
     "data": {
      "image/png": "[encoded data removed]",
      "text/plain": [
       "<Figure size 432x288 with 1 Axes>"
      ]
     },
     "metadata": {
      "needs_background": "light"
     },
     "output_type": "display_data"
    }
   ],
   "source": [
    "(slope, intercept, rvalue, pvalue, stderr) = linregress(southern_df[\"Latitude\"], southern_df[\"Cloudiness (%)\"])\n",
    "regress_values = southern_df[\"Latitude\"] * slope + intercept\n",
    "line_eq = \"y = \" + str(round(slope,2)) + \"x + \" + str(round(intercept,2))\n",
    "plt.scatter(southern_df[\"Latitude\"], southern_df[\"Cloudiness (%)\"], marker=\"o\", facecolors=\"red\", edgecolors=\"black\")\n",
    "plt.plot(southern_df[\"Latitude\"],regress_values,\"b-\")\n",
    "plt.annotate(line_eq,(-50,20),fontsize=15,color=\"red\")\n",
    "plt.title(\"Southern Hemisphere - Cloudiness vs. Latitude\")\n",
    "plt.xlabel(\"Latitude\")\n",
    "plt.ylabel(\"Cloudiness (%)\")\n",
    "print(f\"The r-squared is: {rvalue**2}\")\n",
    "plt.show()"
   ]
  },
  {
   "cell_type": "code",
   "execution_count": null,
   "metadata": {},
   "outputs": [],
   "source": [
    "# This regression displays the relationship between \n",
    "# cloudiness and latitude in the southern hemisphere.\n",
    "# There is very little correlation."
   ]
  },
  {
   "cell_type": "markdown",
   "metadata": {},
   "source": [
    "####  Northern Hemisphere - Wind Speed (mph) vs. Latitude Linear Regression"
   ]
  },
  {
   "cell_type": "code",
   "execution_count": 59,
   "metadata": {},
   "outputs": [
    {
     "name": "stdout",
     "output_type": "stream",
     "text": [
      "The r-squared is: 0.013803811241202049\n"
     ]
    },
    {
     "data": {
      "image/png": "[encoded data removed]",
      "text/plain": [
       "<Figure size 432x288 with 1 Axes>"
      ]
     },
     "metadata": {
      "needs_background": "light"
     },
     "output_type": "display_data"
    }
   ],
   "source": [
    "(slope, intercept, rvalue, pvalue, stderr) = linregress(northern_df[\"Latitude\"], northern_df[\"Wind Speed (mph)\"])\n",
    "regress_values = northern_df[\"Latitude\"] * slope + intercept\n",
    "line_eq = \"y = \" + str(round(slope,2)) + \"x + \" + str(round(intercept,2))\n",
    "plt.scatter(northern_df[\"Latitude\"], northern_df[\"Wind Speed (mph)\"], marker=\"o\", facecolors=\"red\", edgecolors=\"black\")\n",
    "plt.plot(northern_df[\"Latitude\"],regress_values,\"b-\")\n",
    "plt.annotate(line_eq,(40,25),fontsize=15,color=\"red\")\n",
    "plt.title(\"Northern Hemisphere - Wind Speed vs. Latitude\")\n",
    "plt.xlabel(\"Latitude\")\n",
    "plt.ylabel(\"Wind Speed (mph)\")\n",
    "print(f\"The r-squared is: {rvalue**2}\")\n",
    "plt.show()"
   ]
  },
  {
   "cell_type": "code",
   "execution_count": null,
   "metadata": {},
   "outputs": [],
   "source": [
    "# This regression displays the relationship between \n",
    "# wind speed and latitude in the northern hemisphere.\n",
    "# There is very little correlation."
   ]
  },
  {
   "cell_type": "markdown",
   "metadata": {},
   "source": [
    "####  Southern Hemisphere - Wind Speed (mph) vs. Latitude Linear Regression"
   ]
  },
  {
   "cell_type": "code",
   "execution_count": 60,
   "metadata": {},
   "outputs": [
    {
     "name": "stdout",
     "output_type": "stream",
     "text": [
      "The r-squared is: 0.0044263239607998574\n"
     ]
    },
    {
     "data": {
      "image/png": "[encoded data removed]",
      "text/plain": [
       "<Figure size 432x288 with 1 Axes>"
      ]
     },
     "metadata": {
      "needs_background": "light"
     },
     "output_type": "display_data"
    }
   ],
   "source": [
    "(slope, intercept, rvalue, pvalue, stderr) = linregress(southern_df[\"Latitude\"], southern_df[\"Wind Speed (mph)\"])\n",
    "regress_values = southern_df[\"Latitude\"] * slope + intercept\n",
    "line_eq = \"y = \" + str(round(slope,2)) + \"x + \" + str(round(intercept,2))\n",
    "plt.scatter(southern_df[\"Latitude\"], southern_df[\"Wind Speed (mph)\"], marker=\"o\", facecolors=\"red\", edgecolors=\"black\")\n",
    "plt.plot(southern_df[\"Latitude\"],regress_values,\"b-\")\n",
    "plt.annotate(line_eq,(-50,20),fontsize=15,color=\"red\")\n",
    "plt.title(\"Southern Hemisphere - Wind Speed vs. Latitude\")\n",
    "plt.xlabel(\"Latitude\")\n",
    "plt.ylabel(\"Wind Speed (mph)\")\n",
    "print(f\"The r-squared is: {rvalue**2}\")\n",
    "plt.show()"
   ]
  },
  {
   "cell_type": "code",
   "execution_count": null,
   "metadata": {},
   "outputs": [],
   "source": [
    "# This regression displays the relationship between \n",
    "# wind speed and latitude in the southern hemisphere.\n",
    "# There is very little correlation."
   ]
  },
  {
   "cell_type": "code",
   "execution_count": null,
   "metadata": {},
   "outputs": [],
   "source": []
  }
 ],
 "metadata": {
  "anaconda-cloud": {},
  "kernel_info": {
   "name": "python3"
  },
  "kernelspec": {
   "display_name": "Python 3 (ipykernel)",
   "language": "python",
   "name": "python3"
  },
  "language_info": {
   "codemirror_mode": {
    "name": "ipython",
    "version": 3
   },
   "file_extension": ".py",
   "mimetype": "text/x-python",
   "name": "python",
   "nbconvert_exporter": "python",
   "pygments_lexer": "ipython3",
   "version": "3.9.7"
  },
  "latex_envs": {
   "LaTeX_envs_menu_present": true,
   "autoclose": false,
   "autocomplete": true,
   "bibliofile": "biblio.bib",
   "cite_by": "apalike",
   "current_citInitial": 1,
   "eqLabelWithNumbers": true,
   "eqNumInitial": 1,
   "hotkeys": {
    "equation": "Ctrl-E",
    "itemize": "Ctrl-I"
   },
   "labels_anchors": false,
   "latex_user_defs": false,
   "report_style_numbering": false,
   "user_envs_cfg": false
  },
  "nteract": {
   "version": "0.12.3"
  }
 },
 "nbformat": 4,
 "nbformat_minor": 2
}
