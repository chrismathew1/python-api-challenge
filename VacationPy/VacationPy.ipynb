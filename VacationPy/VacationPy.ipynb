{
 "cells": [
  {
   "cell_type": "markdown",
   "metadata": {},
   "source": [
    "# VacationPy\n",
    "----\n",
    "\n",
    "#### Note\n",
    "* Keep an eye on your API usage. Use https://developers.google.com/maps/reporting/gmp-reporting as reference for how to monitor your usage and billing.\n",
    "\n",
    "* Instructions have been included for each segment. You do not have to follow them exactly, but they are included to help you think through the steps."
   ]
  },
  {
   "cell_type": "code",
   "execution_count": 1,
   "metadata": {},
   "outputs": [],
   "source": [
    "# Dependencies and Setup\n",
    "import matplotlib.pyplot as plt\n",
    "import pandas as pd\n",
    "import numpy as np\n",
    "import requests\n",
    "import gmaps\n",
    "import os\n",
    "\n",
    "# Import API key\n",
    "from api_keys import g_key"
   ]
  },
  {
   "cell_type": "markdown",
   "metadata": {},
   "source": [
    "### Store Part I results into DataFrame\n",
    "* Load the csv exported in Part I to a DataFrame"
   ]
  },
  {
   "cell_type": "code",
   "execution_count": 22,
   "metadata": {},
   "outputs": [
    {
     "data": {
      "text/html": [
       "<div>\n",
       "<style scoped>\n",
       "    .dataframe tbody tr th:only-of-type {\n",
       "        vertical-align: middle;\n",
       "    }\n",
       "\n",
       "    .dataframe tbody tr th {\n",
       "        vertical-align: top;\n",
       "    }\n",
       "\n",
       "    .dataframe thead th {\n",
       "        text-align: right;\n",
       "    }\n",
       "</style>\n",
       "<table border=\"1\" class=\"dataframe\">\n",
       "  <thead>\n",
       "    <tr style=\"text-align: right;\">\n",
       "      <th></th>\n",
       "      <th>City</th>\n",
       "      <th>Latitude</th>\n",
       "      <th>Longitude</th>\n",
       "      <th>Temperature (F)</th>\n",
       "      <th>Humidity (%)</th>\n",
       "      <th>Cloudiness (%)</th>\n",
       "      <th>Wind Speed (mph)</th>\n",
       "      <th>Country</th>\n",
       "      <th>Date</th>\n",
       "    </tr>\n",
       "  </thead>\n",
       "  <tbody>\n",
       "    <tr>\n",
       "      <th>0</th>\n",
       "      <td>atuona</td>\n",
       "      <td>-9.8000</td>\n",
       "      <td>-139.0333</td>\n",
       "      <td>76.50</td>\n",
       "      <td>63</td>\n",
       "      <td>44</td>\n",
       "      <td>11.34</td>\n",
       "      <td>PF</td>\n",
       "      <td>1661210391</td>\n",
       "    </tr>\n",
       "    <tr>\n",
       "      <th>1</th>\n",
       "      <td>bengkulu</td>\n",
       "      <td>-3.8004</td>\n",
       "      <td>102.2655</td>\n",
       "      <td>74.71</td>\n",
       "      <td>86</td>\n",
       "      <td>97</td>\n",
       "      <td>3.36</td>\n",
       "      <td>ID</td>\n",
       "      <td>1661210391</td>\n",
       "    </tr>\n",
       "    <tr>\n",
       "      <th>2</th>\n",
       "      <td>rikitea</td>\n",
       "      <td>-23.1203</td>\n",
       "      <td>-134.9692</td>\n",
       "      <td>70.48</td>\n",
       "      <td>70</td>\n",
       "      <td>24</td>\n",
       "      <td>14.09</td>\n",
       "      <td>PF</td>\n",
       "      <td>1661210392</td>\n",
       "    </tr>\n",
       "    <tr>\n",
       "      <th>3</th>\n",
       "      <td>flin flon</td>\n",
       "      <td>54.7682</td>\n",
       "      <td>-101.8650</td>\n",
       "      <td>69.64</td>\n",
       "      <td>49</td>\n",
       "      <td>40</td>\n",
       "      <td>4.61</td>\n",
       "      <td>CA</td>\n",
       "      <td>1661210392</td>\n",
       "    </tr>\n",
       "    <tr>\n",
       "      <th>4</th>\n",
       "      <td>bethel</td>\n",
       "      <td>41.3712</td>\n",
       "      <td>-73.4140</td>\n",
       "      <td>76.19</td>\n",
       "      <td>85</td>\n",
       "      <td>85</td>\n",
       "      <td>3.94</td>\n",
       "      <td>US</td>\n",
       "      <td>1661210393</td>\n",
       "    </tr>\n",
       "  </tbody>\n",
       "</table>\n",
       "</div>"
      ],
      "text/plain": [
       "        City  Latitude  Longitude  Temperature (F)  Humidity (%)  \\\n",
       "0     atuona   -9.8000  -139.0333            76.50            63   \n",
       "1   bengkulu   -3.8004   102.2655            74.71            86   \n",
       "2    rikitea  -23.1203  -134.9692            70.48            70   \n",
       "3  flin flon   54.7682  -101.8650            69.64            49   \n",
       "4     bethel   41.3712   -73.4140            76.19            85   \n",
       "\n",
       "   Cloudiness (%)  Wind Speed (mph) Country        Date  \n",
       "0              44             11.34      PF  1661210391  \n",
       "1              97              3.36      ID  1661210391  \n",
       "2              24             14.09      PF  1661210392  \n",
       "3              40              4.61      CA  1661210392  \n",
       "4              85              3.94      US  1661210393  "
      ]
     },
     "execution_count": 22,
     "metadata": {},
     "output_type": "execute_result"
    }
   ],
   "source": [
    "cities = pd.read_csv(\"../WeatherPy/cities.csv\")\n",
    "cities.head()"
   ]
  },
  {
   "cell_type": "markdown",
   "metadata": {},
   "source": [
    "### Humidity Heatmap\n",
    "* Configure gmaps.\n",
    "* Use the Lat and Lng as locations and Humidity as the weight.\n",
    "* Add Heatmap layer to map."
   ]
  },
  {
   "cell_type": "code",
   "execution_count": 3,
   "metadata": {},
   "outputs": [],
   "source": [
    "# Configure gmaps\n",
    "gmaps.configure(api_key=g_key)"
   ]
  },
  {
   "cell_type": "code",
   "execution_count": 24,
   "metadata": {},
   "outputs": [
    {
     "data": {
      "application/vnd.jupyter.widget-view+json": {
       "model_id": "6f6c2add3af943a9a84ede5dc2fb3e6d",
       "version_major": 2,
       "version_minor": 0
      },
      "text/plain": [
       "Figure(layout=FigureLayout(height='420px'))"
      ]
     },
     "metadata": {},
     "output_type": "display_data"
    }
   ],
   "source": [
    "# Store latitude and longitude in locations\n",
    "locations = cities[[\"Latitude\", \"Longitude\"]]\n",
    "\n",
    "humidity = cities[\"Humidity (%)\"]\n",
    "\n",
    "# Plot Heatmap\n",
    "fig = gmaps.figure()\n",
    "\n",
    "# Create heat layer\n",
    "heat_layer = gmaps.heatmap_layer(locations, weights=humidity, \n",
    "                                 dissipating=False, max_intensity=100,\n",
    "                                 point_radius=4)\n",
    "# Add layer\n",
    "fig.add_layer(heat_layer)\n",
    "\n",
    "# Display\n",
    "fig"
   ]
  },
  {
   "cell_type": "markdown",
   "metadata": {},
   "source": [
    "### Create new DataFrame fitting weather criteria\n",
    "* Narrow down the cities to fit weather conditions.\n",
    "* Drop any rows will null values."
   ]
  },
  {
   "cell_type": "code",
   "execution_count": 16,
   "metadata": {},
   "outputs": [
    {
     "data": {
      "text/html": [
       "<div>\n",
       "<style scoped>\n",
       "    .dataframe tbody tr th:only-of-type {\n",
       "        vertical-align: middle;\n",
       "    }\n",
       "\n",
       "    .dataframe tbody tr th {\n",
       "        vertical-align: top;\n",
       "    }\n",
       "\n",
       "    .dataframe thead th {\n",
       "        text-align: right;\n",
       "    }\n",
       "</style>\n",
       "<table border=\"1\" class=\"dataframe\">\n",
       "  <thead>\n",
       "    <tr style=\"text-align: right;\">\n",
       "      <th></th>\n",
       "      <th>City</th>\n",
       "      <th>Latitude</th>\n",
       "      <th>Longitude</th>\n",
       "      <th>Temperature (F)</th>\n",
       "      <th>Humidity (%)</th>\n",
       "      <th>Cloudiness (%)</th>\n",
       "      <th>Wind Speed (mph)</th>\n",
       "      <th>Country</th>\n",
       "      <th>Date</th>\n",
       "    </tr>\n",
       "  </thead>\n",
       "  <tbody>\n",
       "    <tr>\n",
       "      <th>32</th>\n",
       "      <td>abu samrah</td>\n",
       "      <td>35.3029</td>\n",
       "      <td>37.1841</td>\n",
       "      <td>74.26</td>\n",
       "      <td>74</td>\n",
       "      <td>0</td>\n",
       "      <td>11.95</td>\n",
       "      <td>SY</td>\n",
       "      <td>1661210404</td>\n",
       "    </tr>\n",
       "    <tr>\n",
       "      <th>87</th>\n",
       "      <td>arraial do cabo</td>\n",
       "      <td>-22.9661</td>\n",
       "      <td>-42.0278</td>\n",
       "      <td>66.16</td>\n",
       "      <td>82</td>\n",
       "      <td>0</td>\n",
       "      <td>4.61</td>\n",
       "      <td>BR</td>\n",
       "      <td>1661210430</td>\n",
       "    </tr>\n",
       "    <tr>\n",
       "      <th>98</th>\n",
       "      <td>mareeba</td>\n",
       "      <td>-17.0000</td>\n",
       "      <td>145.4333</td>\n",
       "      <td>73.49</td>\n",
       "      <td>75</td>\n",
       "      <td>4</td>\n",
       "      <td>2.57</td>\n",
       "      <td>AU</td>\n",
       "      <td>1661210434</td>\n",
       "    </tr>\n",
       "    <tr>\n",
       "      <th>158</th>\n",
       "      <td>sault sainte marie</td>\n",
       "      <td>46.5168</td>\n",
       "      <td>-84.3333</td>\n",
       "      <td>72.16</td>\n",
       "      <td>57</td>\n",
       "      <td>0</td>\n",
       "      <td>11.50</td>\n",
       "      <td>CA</td>\n",
       "      <td>1661210178</td>\n",
       "    </tr>\n",
       "    <tr>\n",
       "      <th>173</th>\n",
       "      <td>krasnoarmeyskiy</td>\n",
       "      <td>47.0114</td>\n",
       "      <td>42.2072</td>\n",
       "      <td>72.03</td>\n",
       "      <td>40</td>\n",
       "      <td>0</td>\n",
       "      <td>12.19</td>\n",
       "      <td>RU</td>\n",
       "      <td>1661210469</td>\n",
       "    </tr>\n",
       "  </tbody>\n",
       "</table>\n",
       "</div>"
      ],
      "text/plain": [
       "                   City  Latitude  Longitude  Temperature (F)  Humidity (%)  \\\n",
       "32           abu samrah   35.3029    37.1841            74.26            74   \n",
       "87      arraial do cabo  -22.9661   -42.0278            66.16            82   \n",
       "98              mareeba  -17.0000   145.4333            73.49            75   \n",
       "158  sault sainte marie   46.5168   -84.3333            72.16            57   \n",
       "173     krasnoarmeyskiy   47.0114    42.2072            72.03            40   \n",
       "\n",
       "     Cloudiness (%)  Wind Speed (mph) Country        Date  \n",
       "32                0             11.95      SY  1661210404  \n",
       "87                0              4.61      BR  1661210430  \n",
       "98                4              2.57      AU  1661210434  \n",
       "158               0             11.50      CA  1661210178  \n",
       "173               0             12.19      RU  1661210469  "
      ]
     },
     "execution_count": 16,
     "metadata": {},
     "output_type": "execute_result"
    }
   ],
   "source": [
    "# Ideal Temp\n",
    "cities_ideal = cities.loc[(cities[\"Temperature (F)\"] >= 65) & (cities[\"Temperature (F)\"] <= 75)]\n",
    "\n",
    "# Ideal Wind Speed\n",
    "cities_ideal = cities_ideal.loc[cities_ideal[\"Wind Speed (mph)\"] < 20]\n",
    "\n",
    "\n",
    "# Cloudiness\n",
    "hotel_df = cities_ideal.loc[cities_ideal[\"Cloudiness (%)\"] < 10]\n",
    "\n",
    "hotel_df.head()\n"
   ]
  },
  {
   "cell_type": "markdown",
   "metadata": {},
   "source": [
    "### Hotel Map\n",
    "* Store into variable named `hotel_df`.\n",
    "* Add a \"Hotel Name\" column to the DataFrame.\n",
    "* Set parameters to search for hotels with 5000 meters.\n",
    "* Hit the Google Places API for each city's coordinates.\n",
    "* Store the first Hotel result into the DataFrame.\n",
    "* Plot markers on top of the heatmap."
   ]
  },
  {
   "cell_type": "code",
   "execution_count": 17,
   "metadata": {},
   "outputs": [
    {
     "name": "stderr",
     "output_type": "stream",
     "text": [
      "C:\\Users\\Chris\\AppData\\Local\\Temp/ipykernel_28104/382487186.py:1: SettingWithCopyWarning: \n",
      "A value is trying to be set on a copy of a slice from a DataFrame.\n",
      "Try using .loc[row_indexer,col_indexer] = value instead\n",
      "\n",
      "See the caveats in the documentation: https://pandas.pydata.org/pandas-docs/stable/user_guide/indexing.html#returning-a-view-versus-a-copy\n",
      "  hotel_df[\"Hotel Name\"] = \"\"\n"
     ]
    }
   ],
   "source": [
    "hotel_df[\"Hotel Name\"] = \"\""
   ]
  },
  {
   "cell_type": "code",
   "execution_count": 18,
   "metadata": {},
   "outputs": [
    {
     "name": "stdout",
     "output_type": "stream",
     "text": [
      "Retrieving Results for Index 32: abu samrah.\n",
      "Missing field/result... skipping.\n",
      "------------\n",
      "Retrieving Results for Index 87: arraial do cabo.\n",
      "Closest hotel is Pousada Porto Praia.\n",
      "------------\n",
      "Retrieving Results for Index 98: mareeba.\n"
     ]
    },
    {
     "name": "stderr",
     "output_type": "stream",
     "text": [
      "C:\\Users\\Chris\\anaconda3\\lib\\site-packages\\pandas\\core\\indexing.py:1817: SettingWithCopyWarning: \n",
      "A value is trying to be set on a copy of a slice from a DataFrame.\n",
      "Try using .loc[row_indexer,col_indexer] = value instead\n",
      "\n",
      "See the caveats in the documentation: https://pandas.pydata.org/pandas-docs/stable/user_guide/indexing.html#returning-a-view-versus-a-copy\n",
      "  self._setitem_single_column(loc, value, pi)\n"
     ]
    },
    {
     "name": "stdout",
     "output_type": "stream",
     "text": [
      "Closest hotel is Trinity Plains Tourist Park.\n",
      "------------\n",
      "Retrieving Results for Index 158: sault sainte marie.\n",
      "Closest hotel is Comfort Inn.\n",
      "------------\n",
      "Retrieving Results for Index 173: krasnoarmeyskiy.\n",
      "Missing field/result... skipping.\n",
      "------------\n",
      "Retrieving Results for Index 185: port hedland.\n",
      "Closest hotel is The Esplanade Hotel.\n",
      "------------\n",
      "Retrieving Results for Index 207: morondava.\n",
      "Closest hotel is La Case Bambou.\n",
      "------------\n",
      "Retrieving Results for Index 232: ojinaga.\n",
      "Closest hotel is Suites Las Palmas.\n",
      "------------\n",
      "Retrieving Results for Index 235: lyubar.\n",
      "Closest hotel is Садиба\" Над Случчю\".\n",
      "------------\n",
      "Retrieving Results for Index 268: dingzhou.\n",
      "Closest hotel is 宜家时尚宾馆.\n",
      "------------\n",
      "Retrieving Results for Index 320: alekseyevka.\n",
      "Closest hotel is Apartment on Ploshchad Pobedy.\n",
      "------------\n",
      "Retrieving Results for Index 323: mount isa.\n",
      "Closest hotel is ibis Styles Mt Isa Verona.\n",
      "------------\n",
      "Retrieving Results for Index 343: sarandi.\n",
      "Closest hotel is HOTEL GRALHA AZUL (GAPH) - Maringá.\n",
      "------------\n",
      "Retrieving Results for Index 363: los llanos de aridane.\n",
      "Closest hotel is Valle Aridane.\n",
      "------------\n",
      "Retrieving Results for Index 393: sydney.\n",
      "Closest hotel is The Grace Sydney.\n",
      "------------\n",
      "Retrieving Results for Index 394: elbistan.\n",
      "Closest hotel is Sword Hotel.\n",
      "------------\n",
      "Retrieving Results for Index 455: pokhvistnevo.\n",
      "Closest hotel is Pohvistnevskaya Central Hotel.\n",
      "------------\n",
      "Retrieving Results for Index 480: san quintin.\n",
      "Closest hotel is Don Eddie's Sport Fishing Center.\n",
      "------------\n",
      "Retrieving Results for Index 514: waingapu.\n",
      "Closest hotel is Pondok Wisata Elim.\n",
      "------------\n",
      "Retrieving Results for Index 547: alyangula.\n",
      "Closest hotel is Groote Eylandt Lodge.\n",
      "------------\n"
     ]
    }
   ],
   "source": [
    "# find the closest hotel of each type to coordinates\n",
    "\n",
    "base_url = \"https://maps.googleapis.com/maps/api/place/nearbysearch/json\"\n",
    "params = {\n",
    "    \"radius\": 5000,\n",
    "    \"type\": \"lodging\",\n",
    "    \"key\": g_key,\n",
    "}\n",
    "# use iterrows to iterate through pandas dataframe\n",
    "for index, row in hotel_df.iterrows():\n",
    "    \n",
    "    lat = row['Latitude']\n",
    "    lon = row[\"Longitude\"]\n",
    "    \n",
    "    # add keyword to params dict\n",
    "    params['location'] = f'{lat},{lon}'\n",
    "\n",
    "    # assemble url and make API request\n",
    "    print(f\"Retrieving Results for Index {index}: {row['City']}.\")\n",
    "    \n",
    "    response = requests.get(base_url, params=params).json()\n",
    "    \n",
    "    # extract results\n",
    "    results = response['results']\n",
    "    \n",
    "    try:\n",
    "        print(f\"Closest hotel is {results[0]['name']}.\")\n",
    "        \n",
    "        hotel_df.loc[index, 'Hotel Name'] = results[0]['name']\n",
    "        \n",
    "    except (KeyError, IndexError):\n",
    "        print(\"Missing field/result... skipping.\")\n",
    "        \n",
    "    print(\"------------\")"
   ]
  },
  {
   "cell_type": "code",
   "execution_count": 25,
   "metadata": {},
   "outputs": [],
   "source": [
    "# NOTE: Do not change any of the code in this cell\n",
    "\n",
    "# Using the template add the hotel marks to the heatmap\n",
    "info_box_template = \"\"\"\n",
    "<dl>\n",
    "<dt>Name</dt><dd>{Hotel Name}</dd>\n",
    "<dt>City</dt><dd>{City}</dd>\n",
    "<dt>Country</dt><dd>{Country}</dd>\n",
    "</dl>\n",
    "\"\"\"\n",
    "# Store the DataFrame Row\n",
    "# NOTE: be sure to update with your DataFrame name\n",
    "hotel_info = [info_box_template.format(**row) for index, row in hotel_df.iterrows()]\n",
    "locations = hotel_df[[\"Latitude\", \"Longitude\"]]"
   ]
  },
  {
   "cell_type": "code",
   "execution_count": 26,
   "metadata": {},
   "outputs": [
    {
     "data": {
      "application/vnd.jupyter.widget-view+json": {
       "model_id": "6f6c2add3af943a9a84ede5dc2fb3e6d",
       "version_major": 2,
       "version_minor": 0
      },
      "text/plain": [
       "Figure(layout=FigureLayout(height='420px'))"
      ]
     },
     "metadata": {},
     "output_type": "display_data"
    }
   ],
   "source": [
    "# Add marker layer ontop of heat map\n",
    "\n",
    "marker_locations = hotel_df[['Latitude', 'Longitude']]\n",
    "\n",
    "markers = gmaps.marker_layer(marker_locations,\n",
    "    info_box_content=hotel_info)\n",
    "\n",
    "fig.add_layer(markers)\n",
    "\n",
    "# Display figure\n",
    "fig"
   ]
  },
  {
   "cell_type": "code",
   "execution_count": null,
   "metadata": {},
   "outputs": [],
   "source": []
  }
 ],
 "metadata": {
  "kernelspec": {
   "display_name": "Python 3 (ipykernel)",
   "language": "python",
   "name": "python3"
  },
  "language_info": {
   "codemirror_mode": {
    "name": "ipython",
    "version": 3
   },
   "file_extension": ".py",
   "mimetype": "text/x-python",
   "name": "python",
   "nbconvert_exporter": "python",
   "pygments_lexer": "ipython3",
   "version": "3.9.7"
  },
  "latex_envs": {
   "LaTeX_envs_menu_present": true,
   "autoclose": false,
   "autocomplete": true,
   "bibliofile": "biblio.bib",
   "cite_by": "apalike",
   "current_citInitial": 1,
   "eqLabelWithNumbers": true,
   "eqNumInitial": 1,
   "hotkeys": {
    "equation": "Ctrl-E",
    "itemize": "Ctrl-I"
   },
   "labels_anchors": false,
   "latex_user_defs": false,
   "report_style_numbering": false,
   "user_envs_cfg": false
  }
 },
 "nbformat": 4,
 "nbformat_minor": 4
}
